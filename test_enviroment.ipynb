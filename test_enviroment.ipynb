{
 "cells": [
  {
   "cell_type": "code",
   "execution_count": 1,
   "metadata": {},
   "outputs": [
    {
     "name": "stdout",
     "output_type": "stream",
     "text": [
      "Ready\n"
     ]
    }
   ],
   "source": [
    "from skyfield.api import load\n",
    "planets = load('de421.bsp')\n",
    "print('Ready')"
   ]
  },
  {
   "cell_type": "code",
   "execution_count": 2,
   "metadata": {},
   "outputs": [],
   "source": [
    "import datetime\n",
    "import skyfield\n",
    "from pytz import timezone\n",
    "from skyfield import almanac\n",
    "from skyfield.api import N, W, wgs84, load\n",
    "from skyfield.magnitudelib import planetary_magnitude"
   ]
  },
  {
   "cell_type": "code",
   "execution_count": 17,
   "metadata": {},
   "outputs": [
    {
     "name": "stdout",
     "output_type": "stream",
     "text": [
      "Solar noon: 2022-12-15 12:30:45\n"
     ]
    }
   ],
   "source": [
    "zone = timezone('US/Eastern')\n",
    "now = zone.localize(datetime.datetime.now())\n",
    "midnight = now.replace(hour=0, minute=0, second=0, microsecond=0)\n",
    "next_midnight = midnight + datetime.timedelta(days=1)\n",
    "\n",
    "ts = load.timescale()\n",
    "t0 = ts.from_datetime(midnight)\n",
    "t1 = ts.from_datetime(next_midnight)\n",
    "eph = load('de421.bsp')\n",
    "bluffton = wgs84.latlon(40.8939 * N, 83.8917 * W)\n",
    "\n",
    "f = almanac.meridian_transits(eph, eph['Sun'], bluffton)\n",
    "times, events = almanac.find_discrete(t0, t1, f)\n",
    "\n",
    "# Select transits instead of antitransits.\n",
    "times = times[events == 1]\n",
    "\n",
    "t = times[0]\n",
    "tstr = str(t.astimezone(zone))[:19]\n",
    "print('Solar noon:', tstr)"
   ]
  },
  {
   "cell_type": "code",
   "execution_count": 8,
   "metadata": {},
   "outputs": [],
   "source": [
    "def sun_location(observer_location, query_time=None, zone_name='Asia/Shanghai', eph=eph):\n",
    "    assert type(query_time) is datetime.datetime or query_time is None, \"time should be datetime.datetime\"\n",
    "    assert type(observer_location) is skyfield.toposlib.GeographicPosition\n",
    "    zone = timezone(zone_name)\n",
    "    query_time = datetime.datetime.now() if query_time is None else query_time \n",
    "    now = zone.localize(datetime.datetime.now())\n",
    "    ts = load.timescale()\n",
    "    t0 = ts.from_datetime(now)\n",
    "    astrometric = eph['earth'].at(t0).observe(eph['jupiter barycenter'])\n",
    "    print(astrometric.position)"
   ]
  },
  {
   "cell_type": "code",
   "execution_count": 9,
   "metadata": {},
   "outputs": [
    {
     "name": "stdout",
     "output_type": "stream",
     "text": [
      "['Asia/Shanghai', 'Asia/Urumqi']\n"
     ]
    }
   ],
   "source": [
    "import pytz\n",
    "print(pytz.country_timezones('cn'))"
   ]
  },
  {
   "cell_type": "code",
   "execution_count": 10,
   "metadata": {},
   "outputs": [],
   "source": [
    "bluffton = wgs84.latlon(40.8939 * N, 83.8917 * W)"
   ]
  },
  {
   "cell_type": "code",
   "execution_count": 11,
   "metadata": {},
   "outputs": [],
   "source": [
    "shanghai = wgs84.latlon(31.256 * N, 121.547 * W)"
   ]
  },
  {
   "cell_type": "code",
   "execution_count": 12,
   "metadata": {},
   "outputs": [
    {
     "name": "stdout",
     "output_type": "stream",
     "text": [
      "[ 4.73893758 -0.01327586 -0.12847095] au\n"
     ]
    }
   ],
   "source": [
    "sun_location(shanghai)"
   ]
  },
  {
   "cell_type": "code",
   "execution_count": 13,
   "metadata": {},
   "outputs": [
    {
     "data": {
      "text/plain": [
       "skyfield.toposlib.GeographicPosition"
      ]
     },
     "execution_count": 13,
     "metadata": {},
     "output_type": "execute_result"
    }
   ],
   "source": [
    "type(shanghai)"
   ]
  },
  {
   "cell_type": "code",
   "execution_count": 14,
   "metadata": {},
   "outputs": [
    {
     "data": {
      "text/plain": [
       "<function skyfield.almanac.meridian_transits.<locals>.west_of_meridian_at(t)>"
      ]
     },
     "execution_count": 14,
     "metadata": {},
     "output_type": "execute_result"
    }
   ],
   "source": [
    "f"
   ]
  },
  {
   "cell_type": "code",
   "execution_count": 15,
   "metadata": {},
   "outputs": [
    {
     "data": {
      "text/plain": [
       "<Time tt=[2459929.23049423]>"
      ]
     },
     "execution_count": 15,
     "metadata": {},
     "output_type": "execute_result"
    }
   ],
   "source": [
    "times"
   ]
  },
  {
   "cell_type": "code",
   "execution_count": 58,
   "metadata": {},
   "outputs": [
    {
     "name": "stdout",
     "output_type": "stream",
     "text": [
      "-2.59\n"
     ]
    }
   ],
   "source": [
    "astrometric = eph['earth'].at(t).observe(eph['jupiter barycenter'])\n",
    "print('%.2f' % planetary_magnitude(astrometric))"
   ]
  },
  {
   "cell_type": "code",
   "execution_count": 59,
   "metadata": {},
   "outputs": [
    {
     "data": {
      "text/plain": [
       "{'t': <Time tt=2459913.2257466954>,\n",
       " 'position': <Distance [ 4.50342789 -0.06070445 -0.14902088] au>,\n",
       " 'xyz': <Distance [ 4.50342789 -0.06070445 -0.14902088] au>,\n",
       " 'velocity': <Velocity [0.01483835 0.0011037  0.00047526] au/day>,\n",
       " 'center': 399,\n",
       " 'target': 5,\n",
       " '_ephemeris': <SpiceKernel 'de421.bsp'>,\n",
       " 'center_barycentric': <Barycentric BCRS position and velocity at date t center=0 target=399>,\n",
       " 'light_time': 0.02602622808004541}"
      ]
     },
     "execution_count": 59,
     "metadata": {},
     "output_type": "execute_result"
    }
   ],
   "source": [
    "astrometric.__dict__"
   ]
  },
  {
   "cell_type": "code",
   "execution_count": 16,
   "metadata": {},
   "outputs": [
    {
     "ename": "NameError",
     "evalue": "name 'astrometric' is not defined",
     "output_type": "error",
     "traceback": [
      "\u001b[0;31m---------------------------------------------------------------------------\u001b[0m",
      "\u001b[0;31mNameError\u001b[0m                                 Traceback (most recent call last)",
      "Cell \u001b[0;32mIn[16], line 1\u001b[0m\n\u001b[0;32m----> 1\u001b[0m \u001b[39mprint\u001b[39m(\u001b[39m'\u001b[39m\u001b[39m%.2f\u001b[39;00m\u001b[39m'\u001b[39m \u001b[39m%\u001b[39m planetary_magnitude(astrometric))\n",
      "\u001b[0;31mNameError\u001b[0m: name 'astrometric' is not defined"
     ]
    }
   ],
   "source": [
    "print('%.2f' % planetary_magnitude(astrometric))"
   ]
  },
  {
   "cell_type": "code",
   "execution_count": 3,
   "metadata": {},
   "outputs": [],
   "source": [
    "from skyfield.api import PlanetaryConstants, load\n",
    "ts = load.timescale()\n",
    "t = ts.utc(2019, 12, 20, 11, 5)\n",
    "\n",
    "eph = load('de421.bsp')\n",
    "earth, moon = eph['earth'], eph['moon']\n",
    "pc = PlanetaryConstants()\n"
   ]
  },
  {
   "cell_type": "code",
   "execution_count": 4,
   "metadata": {},
   "outputs": [],
   "source": [
    "pc.read_text(load('moon_080317.tf'))\n",
    "pc.read_text(load('pck00008.tpc'))\n",
    "pc.read_binary(load('moon_pa_de421_1900-2050.bpc'))"
   ]
  },
  {
   "cell_type": "code",
   "execution_count": null,
   "metadata": {},
   "outputs": [],
   "source": []
  }
 ],
 "metadata": {
  "kernelspec": {
   "display_name": "Python 3",
   "language": "python",
   "name": "python3"
  },
  "language_info": {
   "codemirror_mode": {
    "name": "ipython",
    "version": 3
   },
   "file_extension": ".py",
   "mimetype": "text/x-python",
   "name": "python",
   "nbconvert_exporter": "python",
   "pygments_lexer": "ipython3",
   "version": "3.10.8"
  },
  "vscode": {
   "interpreter": {
    "hash": "a7729fa2170a36dadc0f7e5ac3fa8ca5999b748310356308e3a463b7ac67913d"
   }
  }
 },
 "nbformat": 4,
 "nbformat_minor": 2
}
