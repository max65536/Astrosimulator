{
 "cells": [
  {
   "cell_type": "code",
   "execution_count": 2,
   "metadata": {},
   "outputs": [
    {
     "name": "stdout",
     "output_type": "stream",
     "text": [
      "Ready\n"
     ]
    }
   ],
   "source": [
    "from skyfield.api import load\n",
    "planets = load('de421.bsp')\n",
    "print('Ready')"
   ]
  },
  {
   "cell_type": "code",
   "execution_count": 3,
   "metadata": {},
   "outputs": [
    {
     "name": "stdout",
     "output_type": "stream",
     "text": [
      "Solar noon: 2022-11-29 12:23:55\n"
     ]
    }
   ],
   "source": [
    "import datetime as dt\n",
    "from pytz import timezone\n",
    "from skyfield import almanac\n",
    "from skyfield.api import N, W, wgs84, load\n",
    "\n",
    "zone = timezone('US/Eastern')\n",
    "now = zone.localize(dt.datetime.now())\n",
    "midnight = now.replace(hour=0, minute=0, second=0, microsecond=0)\n",
    "next_midnight = midnight + dt.timedelta(days=1)\n",
    "\n",
    "ts = load.timescale()\n",
    "t0 = ts.from_datetime(midnight)\n",
    "t1 = ts.from_datetime(next_midnight)\n",
    "eph = load('de421.bsp')\n",
    "bluffton = wgs84.latlon(40.8939 * N, 83.8917 * W)\n",
    "\n",
    "f = almanac.meridian_transits(eph, eph['Sun'], bluffton)\n",
    "times, events = almanac.find_discrete(t0, t1, f)\n",
    "\n",
    "# Select transits instead of antitransits.\n",
    "times = times[events == 1]\n",
    "\n",
    "t = times[0]\n",
    "tstr = str(t.astimezone(zone))[:19]\n",
    "print('Solar noon:', tstr)"
   ]
  },
  {
   "cell_type": "code",
   "execution_count": null,
   "metadata": {},
   "outputs": [],
   "source": []
  }
 ],
 "metadata": {
  "kernelspec": {
   "display_name": "Python 3",
   "language": "python",
   "name": "python3"
  },
  "language_info": {
   "codemirror_mode": {
    "name": "ipython",
    "version": 3
   },
   "file_extension": ".py",
   "mimetype": "text/x-python",
   "name": "python",
   "nbconvert_exporter": "python",
   "pygments_lexer": "ipython3",
   "version": "3.7.4"
  }
 },
 "nbformat": 4,
 "nbformat_minor": 2
}
